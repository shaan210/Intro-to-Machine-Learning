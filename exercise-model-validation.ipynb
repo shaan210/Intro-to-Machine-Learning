{
 "cells": [
  {
   "cell_type": "markdown",
   "id": "c28f924a",
   "metadata": {
    "papermill": {
     "duration": 0.004914,
     "end_time": "2024-09-14T08:56:55.269531",
     "exception": false,
     "start_time": "2024-09-14T08:56:55.264617",
     "status": "completed"
    },
    "tags": []
   },
   "source": [
    "**This notebook is an exercise in the [Introduction to Machine Learning](https://www.kaggle.com/learn/intro-to-machine-learning) course.  You can reference the tutorial at [this link](https://www.kaggle.com/dansbecker/model-validation).**\n",
    "\n",
    "---\n"
   ]
  },
  {
   "cell_type": "markdown",
   "id": "94bf1b5a",
   "metadata": {
    "papermill": {
     "duration": 0.004026,
     "end_time": "2024-09-14T08:56:55.278010",
     "exception": false,
     "start_time": "2024-09-14T08:56:55.273984",
     "status": "completed"
    },
    "tags": []
   },
   "source": [
    "## Recap\n",
    "You've built a model. In this exercise you will test how good your model is.\n",
    "\n",
    "Run the cell below to set up your coding environment where the previous exercise left off."
   ]
  },
  {
   "cell_type": "code",
   "execution_count": 1,
   "id": "62e5f72d",
   "metadata": {
    "execution": {
     "iopub.execute_input": "2024-09-14T08:56:55.288181Z",
     "iopub.status.busy": "2024-09-14T08:56:55.287758Z",
     "iopub.status.idle": "2024-09-14T08:56:57.406622Z",
     "shell.execute_reply": "2024-09-14T08:56:57.405274Z"
    },
    "papermill": {
     "duration": 2.126986,
     "end_time": "2024-09-14T08:56:57.409228",
     "exception": false,
     "start_time": "2024-09-14T08:56:55.282242",
     "status": "completed"
    },
    "tags": []
   },
   "outputs": [
    {
     "name": "stdout",
     "output_type": "stream",
     "text": [
      "First in-sample predictions: [208500. 181500. 223500. 140000. 250000.]\n",
      "Actual target values for those homes: [208500, 181500, 223500, 140000, 250000]\n",
      "Setup Complete\n"
     ]
    }
   ],
   "source": [
    "# Code you have previously used to load data\n",
    "import pandas as pd\n",
    "from sklearn.tree import DecisionTreeRegressor\n",
    "\n",
    "# Path of the file to read\n",
    "iowa_file_path = '../input/home-data-for-ml-course/train.csv'\n",
    "\n",
    "home_data = pd.read_csv(iowa_file_path)\n",
    "y = home_data.SalePrice\n",
    "feature_columns = ['LotArea', 'YearBuilt', '1stFlrSF', '2ndFlrSF', 'FullBath', 'BedroomAbvGr', 'TotRmsAbvGrd']\n",
    "X = home_data[feature_columns]\n",
    "\n",
    "# Specify Model\n",
    "iowa_model = DecisionTreeRegressor()\n",
    "# Fit Model\n",
    "iowa_model.fit(X, y)\n",
    "\n",
    "print(\"First in-sample predictions:\", iowa_model.predict(X.head()))\n",
    "print(\"Actual target values for those homes:\", y.head().tolist())\n",
    "\n",
    "# Set up code checking\n",
    "from learntools.core import binder\n",
    "binder.bind(globals())\n",
    "from learntools.machine_learning.ex4 import *\n",
    "print(\"Setup Complete\")"
   ]
  },
  {
   "cell_type": "markdown",
   "id": "4d43e500",
   "metadata": {
    "papermill": {
     "duration": 0.004228,
     "end_time": "2024-09-14T08:56:57.418182",
     "exception": false,
     "start_time": "2024-09-14T08:56:57.413954",
     "status": "completed"
    },
    "tags": []
   },
   "source": [
    "# Exercises\n",
    "\n",
    "## Step 1: Split Your Data\n",
    "Use the `train_test_split` function to split up your data.\n",
    "\n",
    "Give it the argument `random_state=1` so the `check` functions know what to expect when verifying your code.\n",
    "\n",
    "Recall, your features are loaded in the DataFrame **X** and your target is loaded in **y**.\n"
   ]
  },
  {
   "cell_type": "code",
   "execution_count": 2,
   "id": "483a1bf3",
   "metadata": {
    "execution": {
     "iopub.execute_input": "2024-09-14T08:56:57.428874Z",
     "iopub.status.busy": "2024-09-14T08:56:57.428425Z",
     "iopub.status.idle": "2024-09-14T08:56:57.447412Z",
     "shell.execute_reply": "2024-09-14T08:56:57.446067Z"
    },
    "papermill": {
     "duration": 0.027109,
     "end_time": "2024-09-14T08:56:57.449735",
     "exception": false,
     "start_time": "2024-09-14T08:56:57.422626",
     "status": "completed"
    },
    "tags": []
   },
   "outputs": [
    {
     "data": {
      "application/javascript": [
       "parent.postMessage({\"jupyterEvent\": \"custom.exercise_interaction\", \"data\": {\"outcomeType\": 1, \"valueTowardsCompletion\": 0.25, \"interactionType\": 1, \"questionType\": 2, \"questionId\": \"1_SplitData\", \"learnToolsVersion\": \"0.3.4\", \"failureMessage\": \"\", \"exceptionClass\": \"\", \"trace\": \"\"}}, \"*\")"
      ],
      "text/plain": [
       "<IPython.core.display.Javascript object>"
      ]
     },
     "metadata": {},
     "output_type": "display_data"
    },
    {
     "data": {
      "text/markdown": [
       "<span style=\"color:#33cc33\">Correct</span>"
      ],
      "text/plain": [
       "Correct"
      ]
     },
     "metadata": {},
     "output_type": "display_data"
    }
   ],
   "source": [
    "# Import the train_test_split function and uncomment\n",
    "# from _ import _\n",
    "from sklearn.model_selection import train_test_split\n",
    "\n",
    "\n",
    "# fill in and uncomment\n",
    "# train_X, val_X, train_y, val_y = ____\n",
    "train_X,val_X,train_y,val_y=train_test_split(X,y,random_state=1)\n",
    "\n",
    "\n",
    "# Check your answer\n",
    "step_1.check()"
   ]
  },
  {
   "cell_type": "code",
   "execution_count": 3,
   "id": "819b6874",
   "metadata": {
    "execution": {
     "iopub.execute_input": "2024-09-14T08:56:57.460833Z",
     "iopub.status.busy": "2024-09-14T08:56:57.460400Z",
     "iopub.status.idle": "2024-09-14T08:56:57.465126Z",
     "shell.execute_reply": "2024-09-14T08:56:57.464088Z"
    },
    "papermill": {
     "duration": 0.012991,
     "end_time": "2024-09-14T08:56:57.467507",
     "exception": false,
     "start_time": "2024-09-14T08:56:57.454516",
     "status": "completed"
    },
    "tags": []
   },
   "outputs": [],
   "source": [
    "# The lines below will show you a hint or the solution.\n",
    "# step_1.hint() \n",
    "# step_1.solution()\n"
   ]
  },
  {
   "cell_type": "markdown",
   "id": "43bdabcb",
   "metadata": {
    "papermill": {
     "duration": 0.004566,
     "end_time": "2024-09-14T08:56:57.476850",
     "exception": false,
     "start_time": "2024-09-14T08:56:57.472284",
     "status": "completed"
    },
    "tags": []
   },
   "source": [
    "## Step 2: Specify and Fit the Model\n",
    "\n",
    "Create a `DecisionTreeRegressor` model and fit it to the relevant data.\n",
    "Set `random_state` to 1 again when creating the model."
   ]
  },
  {
   "cell_type": "code",
   "execution_count": 4,
   "id": "7f8628d0",
   "metadata": {
    "execution": {
     "iopub.execute_input": "2024-09-14T08:56:57.488066Z",
     "iopub.status.busy": "2024-09-14T08:56:57.487624Z",
     "iopub.status.idle": "2024-09-14T08:56:57.515770Z",
     "shell.execute_reply": "2024-09-14T08:56:57.514746Z"
    },
    "papermill": {
     "duration": 0.036438,
     "end_time": "2024-09-14T08:56:57.518071",
     "exception": false,
     "start_time": "2024-09-14T08:56:57.481633",
     "status": "completed"
    },
    "tags": []
   },
   "outputs": [
    {
     "name": "stdout",
     "output_type": "stream",
     "text": [
      "[186500. 184000. 130000.  92000. 164500. 220000. 335000. 144152. 215000.\n",
      " 262000.]\n",
      "[186500. 184000. 130000.  92000. 164500. 220000. 335000. 144152. 215000.\n",
      " 262000.]\n"
     ]
    },
    {
     "data": {
      "application/javascript": [
       "parent.postMessage({\"jupyterEvent\": \"custom.exercise_interaction\", \"data\": {\"outcomeType\": 1, \"valueTowardsCompletion\": 0.25, \"interactionType\": 1, \"questionType\": 2, \"questionId\": \"2_FitModelWithTrain\", \"learnToolsVersion\": \"0.3.4\", \"failureMessage\": \"\", \"exceptionClass\": \"\", \"trace\": \"\"}}, \"*\")"
      ],
      "text/plain": [
       "<IPython.core.display.Javascript object>"
      ]
     },
     "metadata": {},
     "output_type": "display_data"
    },
    {
     "data": {
      "text/markdown": [
       "<span style=\"color:#33cc33\">Correct</span>"
      ],
      "text/plain": [
       "Correct"
      ]
     },
     "metadata": {},
     "output_type": "display_data"
    }
   ],
   "source": [
    "# You imported DecisionTreeRegressor in your last exercise\n",
    "# and that code has been copied to the setup code above. So, no need to\n",
    "# import it again\n",
    "\n",
    "# Specify the model\n",
    "iowa_model = DecisionTreeRegressor(random_state=1)\n",
    "\n",
    "# Fit iowa_model with the training data.\n",
    "iowa_model.fit(train_X, train_y)\n",
    "\n",
    "# Check your answer\n",
    "step_2.check()"
   ]
  },
  {
   "cell_type": "code",
   "execution_count": 5,
   "id": "e13e6989",
   "metadata": {
    "execution": {
     "iopub.execute_input": "2024-09-14T08:56:57.529659Z",
     "iopub.status.busy": "2024-09-14T08:56:57.529216Z",
     "iopub.status.idle": "2024-09-14T08:56:57.533957Z",
     "shell.execute_reply": "2024-09-14T08:56:57.532839Z"
    },
    "papermill": {
     "duration": 0.013118,
     "end_time": "2024-09-14T08:56:57.536224",
     "exception": false,
     "start_time": "2024-09-14T08:56:57.523106",
     "status": "completed"
    },
    "tags": []
   },
   "outputs": [],
   "source": [
    "# step_2.hint()\n",
    "# step_2.solution()"
   ]
  },
  {
   "cell_type": "markdown",
   "id": "7fdc8166",
   "metadata": {
    "papermill": {
     "duration": 0.004793,
     "end_time": "2024-09-14T08:56:57.546307",
     "exception": false,
     "start_time": "2024-09-14T08:56:57.541514",
     "status": "completed"
    },
    "tags": []
   },
   "source": [
    "## Step 3: Make Predictions with Validation data\n"
   ]
  },
  {
   "cell_type": "code",
   "execution_count": 6,
   "id": "85f1b421",
   "metadata": {
    "execution": {
     "iopub.execute_input": "2024-09-14T08:56:57.558310Z",
     "iopub.status.busy": "2024-09-14T08:56:57.557514Z",
     "iopub.status.idle": "2024-09-14T08:56:57.569753Z",
     "shell.execute_reply": "2024-09-14T08:56:57.568637Z"
    },
    "papermill": {
     "duration": 0.020914,
     "end_time": "2024-09-14T08:56:57.572181",
     "exception": false,
     "start_time": "2024-09-14T08:56:57.551267",
     "status": "completed"
    },
    "tags": []
   },
   "outputs": [
    {
     "data": {
      "application/javascript": [
       "parent.postMessage({\"jupyterEvent\": \"custom.exercise_interaction\", \"data\": {\"outcomeType\": 1, \"valueTowardsCompletion\": 0.25, \"interactionType\": 1, \"questionType\": 2, \"questionId\": \"3_ValPreds\", \"learnToolsVersion\": \"0.3.4\", \"failureMessage\": \"\", \"exceptionClass\": \"\", \"trace\": \"\"}}, \"*\")"
      ],
      "text/plain": [
       "<IPython.core.display.Javascript object>"
      ]
     },
     "metadata": {},
     "output_type": "display_data"
    },
    {
     "data": {
      "text/markdown": [
       "<span style=\"color:#33cc33\">Correct</span>"
      ],
      "text/plain": [
       "Correct"
      ]
     },
     "metadata": {},
     "output_type": "display_data"
    }
   ],
   "source": [
    "# Predict with all validation observations\n",
    "val_predictions = iowa_model.predict(val_X)\n",
    "\n",
    "# Check your answer\n",
    "step_3.check()"
   ]
  },
  {
   "cell_type": "code",
   "execution_count": 7,
   "id": "b1bae6b5",
   "metadata": {
    "execution": {
     "iopub.execute_input": "2024-09-14T08:56:57.585236Z",
     "iopub.status.busy": "2024-09-14T08:56:57.584452Z",
     "iopub.status.idle": "2024-09-14T08:56:57.588912Z",
     "shell.execute_reply": "2024-09-14T08:56:57.587898Z"
    },
    "papermill": {
     "duration": 0.013331,
     "end_time": "2024-09-14T08:56:57.591117",
     "exception": false,
     "start_time": "2024-09-14T08:56:57.577786",
     "status": "completed"
    },
    "tags": []
   },
   "outputs": [],
   "source": [
    "# step_3.hint()\n",
    "# step_3.solution()"
   ]
  },
  {
   "cell_type": "markdown",
   "id": "ebc09f4a",
   "metadata": {
    "papermill": {
     "duration": 0.005,
     "end_time": "2024-09-14T08:56:57.601466",
     "exception": false,
     "start_time": "2024-09-14T08:56:57.596466",
     "status": "completed"
    },
    "tags": []
   },
   "source": [
    "Inspect your predictions and actual values from validation data."
   ]
  },
  {
   "cell_type": "code",
   "execution_count": 8,
   "id": "d48d9834",
   "metadata": {
    "execution": {
     "iopub.execute_input": "2024-09-14T08:56:57.614574Z",
     "iopub.status.busy": "2024-09-14T08:56:57.613549Z",
     "iopub.status.idle": "2024-09-14T08:56:57.622216Z",
     "shell.execute_reply": "2024-09-14T08:56:57.620826Z"
    },
    "papermill": {
     "duration": 0.017762,
     "end_time": "2024-09-14T08:56:57.624636",
     "exception": false,
     "start_time": "2024-09-14T08:56:57.606874",
     "status": "completed"
    },
    "tags": []
   },
   "outputs": [
    {
     "name": "stdout",
     "output_type": "stream",
     "text": [
      "[186500. 184000. 130000.  92000. 164500.]\n",
      "258     231500\n",
      "267     179500\n",
      "288     122000\n",
      "649      84500\n",
      "1233    142000\n",
      "Name: SalePrice, dtype: int64\n"
     ]
    }
   ],
   "source": [
    "# print the top few validation predictions\n",
    "print(iowa_model.predict(val_X.head()))\n",
    "# print the top few actual prices from validation data\n",
    "print(val_y.head())"
   ]
  },
  {
   "cell_type": "markdown",
   "id": "be3d04a4",
   "metadata": {
    "papermill": {
     "duration": 0.005105,
     "end_time": "2024-09-14T08:56:57.635221",
     "exception": false,
     "start_time": "2024-09-14T08:56:57.630116",
     "status": "completed"
    },
    "tags": []
   },
   "source": [
    "What do you notice that is different from what you saw with in-sample predictions (which are printed after the top code cell in this page).\n",
    "\n",
    "Do you remember why validation predictions differ from in-sample (or training) predictions? This is an important idea from the last lesson.\n",
    "\n",
    "## Step 4: Calculate the Mean Absolute Error in Validation Data\n"
   ]
  },
  {
   "cell_type": "code",
   "execution_count": 9,
   "id": "f6306450",
   "metadata": {
    "execution": {
     "iopub.execute_input": "2024-09-14T08:56:57.647583Z",
     "iopub.status.busy": "2024-09-14T08:56:57.647174Z",
     "iopub.status.idle": "2024-09-14T08:56:57.656192Z",
     "shell.execute_reply": "2024-09-14T08:56:57.655066Z"
    },
    "papermill": {
     "duration": 0.017681,
     "end_time": "2024-09-14T08:56:57.658260",
     "exception": false,
     "start_time": "2024-09-14T08:56:57.640579",
     "status": "completed"
    },
    "tags": []
   },
   "outputs": [
    {
     "data": {
      "application/javascript": [
       "parent.postMessage({\"jupyterEvent\": \"custom.exercise_interaction\", \"data\": {\"outcomeType\": 4, \"interactionType\": 1, \"questionType\": 1, \"questionId\": \"4_MAE\", \"learnToolsVersion\": \"0.3.4\", \"valueTowardsCompletion\": 0.0, \"failureMessage\": \"\", \"exceptionClass\": \"\", \"trace\": \"\"}}, \"*\")"
      ],
      "text/plain": [
       "<IPython.core.display.Javascript object>"
      ]
     },
     "metadata": {},
     "output_type": "display_data"
    },
    {
     "data": {
      "text/markdown": [
       "<span style=\"color:#ccaa33\">Check:</span> When you've updated the starter code, `check()` will tell you whether your code is correct. You need to update the code that creates variable `val_mae`"
      ],
      "text/plain": [
       "Check: When you've updated the starter code, `check()` will tell you whether your code is correct. You need to update the code that creates variable `val_mae`"
      ]
     },
     "metadata": {},
     "output_type": "display_data"
    }
   ],
   "source": [
    "from sklearn.metrics import mean_absolute_error\n",
    "val_mae = ____\n",
    "\n",
    "# uncomment following line to see the validation_mae\n",
    "#print(val_mae)\n",
    "\n",
    "# Check your answer\n",
    "step_4.check()"
   ]
  },
  {
   "cell_type": "code",
   "execution_count": 10,
   "id": "2938eae7",
   "metadata": {
    "execution": {
     "iopub.execute_input": "2024-09-14T08:56:57.671312Z",
     "iopub.status.busy": "2024-09-14T08:56:57.670882Z",
     "iopub.status.idle": "2024-09-14T08:56:57.675645Z",
     "shell.execute_reply": "2024-09-14T08:56:57.674619Z"
    },
    "papermill": {
     "duration": 0.01378,
     "end_time": "2024-09-14T08:56:57.677794",
     "exception": false,
     "start_time": "2024-09-14T08:56:57.664014",
     "status": "completed"
    },
    "tags": []
   },
   "outputs": [],
   "source": [
    "# step_4.hint()\n",
    "# step_4.solution()"
   ]
  },
  {
   "cell_type": "markdown",
   "id": "03525650",
   "metadata": {
    "papermill": {
     "duration": 0.005395,
     "end_time": "2024-09-14T08:56:57.688970",
     "exception": false,
     "start_time": "2024-09-14T08:56:57.683575",
     "status": "completed"
    },
    "tags": []
   },
   "source": [
    "Is that MAE good?  There isn't a general rule for what values are good that applies across applications. But you'll see how to use (and improve) this number in the next step.\n",
    "\n",
    "# Keep Going\n",
    "\n",
    "You are ready for **[Underfitting and Overfitting](https://www.kaggle.com/dansbecker/underfitting-and-overfitting).**\n"
   ]
  },
  {
   "cell_type": "markdown",
   "id": "04f87fe5",
   "metadata": {
    "papermill": {
     "duration": 0.005275,
     "end_time": "2024-09-14T08:56:57.700132",
     "exception": false,
     "start_time": "2024-09-14T08:56:57.694857",
     "status": "completed"
    },
    "tags": []
   },
   "source": [
    "---\n",
    "\n",
    "\n",
    "\n",
    "\n",
    "*Have questions or comments? Visit the [course discussion forum](https://www.kaggle.com/learn/intro-to-machine-learning/discussion) to chat with other learners.*"
   ]
  }
 ],
 "metadata": {
  "kaggle": {
   "accelerator": "none",
   "dataSources": [
    {
     "databundleVersionId": 111096,
     "sourceId": 10211,
     "sourceType": "competition"
    },
    {
     "datasetId": 11167,
     "sourceId": 15520,
     "sourceType": "datasetVersion"
    },
    {
     "datasetId": 2709,
     "sourceId": 38454,
     "sourceType": "datasetVersion"
    }
   ],
   "isGpuEnabled": false,
   "isInternetEnabled": false,
   "language": "python",
   "sourceType": "notebook"
  },
  "kernelspec": {
   "display_name": "Python 3",
   "language": "python",
   "name": "python3"
  },
  "language_info": {
   "codemirror_mode": {
    "name": "ipython",
    "version": 3
   },
   "file_extension": ".py",
   "mimetype": "text/x-python",
   "name": "python",
   "nbconvert_exporter": "python",
   "pygments_lexer": "ipython3",
   "version": "3.10.14"
  },
  "papermill": {
   "default_parameters": {},
   "duration": 5.866518,
   "end_time": "2024-09-14T08:56:58.326769",
   "environment_variables": {},
   "exception": null,
   "input_path": "__notebook__.ipynb",
   "output_path": "__notebook__.ipynb",
   "parameters": {},
   "start_time": "2024-09-14T08:56:52.460251",
   "version": "2.6.0"
  }
 },
 "nbformat": 4,
 "nbformat_minor": 5
}
