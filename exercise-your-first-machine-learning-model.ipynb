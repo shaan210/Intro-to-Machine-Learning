{
 "cells": [
  {
   "cell_type": "markdown",
   "id": "cb7395ec",
   "metadata": {
    "papermill": {
     "duration": 0.007547,
     "end_time": "2024-09-14T08:55:19.131287",
     "exception": false,
     "start_time": "2024-09-14T08:55:19.123740",
     "status": "completed"
    },
    "tags": []
   },
   "source": [
    "**This notebook is an exercise in the [Introduction to Machine Learning](https://www.kaggle.com/learn/intro-to-machine-learning) course.  You can reference the tutorial at [this link](https://www.kaggle.com/dansbecker/your-first-machine-learning-model).**\n",
    "\n",
    "---\n"
   ]
  },
  {
   "cell_type": "markdown",
   "id": "23cde005",
   "metadata": {
    "papermill": {
     "duration": 0.00672,
     "end_time": "2024-09-14T08:55:19.145415",
     "exception": false,
     "start_time": "2024-09-14T08:55:19.138695",
     "status": "completed"
    },
    "tags": []
   },
   "source": [
    "## Recap\n",
    "So far, you have loaded your data and reviewed it with the following code. Run this cell to set up your coding environment where the previous step left off."
   ]
  },
  {
   "cell_type": "code",
   "execution_count": 1,
   "id": "ac407bf3",
   "metadata": {
    "execution": {
     "iopub.execute_input": "2024-09-14T08:55:19.161115Z",
     "iopub.status.busy": "2024-09-14T08:55:19.160676Z",
     "iopub.status.idle": "2024-09-14T08:55:21.303449Z",
     "shell.execute_reply": "2024-09-14T08:55:21.301955Z"
    },
    "papermill": {
     "duration": 2.153651,
     "end_time": "2024-09-14T08:55:21.306081",
     "exception": false,
     "start_time": "2024-09-14T08:55:19.152430",
     "status": "completed"
    },
    "tags": []
   },
   "outputs": [
    {
     "name": "stdout",
     "output_type": "stream",
     "text": [
      "Setup Complete\n"
     ]
    }
   ],
   "source": [
    "# Code you have previously used to load data\n",
    "import pandas as pd\n",
    "\n",
    "# Path of the file to read\n",
    "iowa_file_path = '../input/home-data-for-ml-course/train.csv'\n",
    "\n",
    "home_data=pd.read_csv(iowa_file_path)\n",
    "\n",
    "# Set up code checking\n",
    "from learntools.core import binder\n",
    "binder.bind(globals())\n",
    "from learntools.machine_learning.ex3 import *\n",
    "\n",
    "print(\"Setup Complete\")"
   ]
  },
  {
   "cell_type": "markdown",
   "id": "059f4495",
   "metadata": {
    "papermill": {
     "duration": 0.006862,
     "end_time": "2024-09-14T08:55:21.320084",
     "exception": false,
     "start_time": "2024-09-14T08:55:21.313222",
     "status": "completed"
    },
    "tags": []
   },
   "source": [
    "# Exercises\n",
    "\n",
    "## Step 1: Specify Prediction Target\n",
    "Select the target variable, which corresponds to the sales price. Save this to a new variable called `y`. You'll need to print a list of the columns to find the name of the column you need.\n"
   ]
  },
  {
   "cell_type": "code",
   "execution_count": 2,
   "id": "ebe592cd",
   "metadata": {
    "execution": {
     "iopub.execute_input": "2024-09-14T08:55:21.336321Z",
     "iopub.status.busy": "2024-09-14T08:55:21.335660Z",
     "iopub.status.idle": "2024-09-14T08:55:21.346620Z",
     "shell.execute_reply": "2024-09-14T08:55:21.345581Z"
    },
    "papermill": {
     "duration": 0.021917,
     "end_time": "2024-09-14T08:55:21.349005",
     "exception": false,
     "start_time": "2024-09-14T08:55:21.327088",
     "status": "completed"
    },
    "tags": []
   },
   "outputs": [
    {
     "data": {
      "text/plain": [
       "Index(['Id', 'MSSubClass', 'MSZoning', 'LotFrontage', 'LotArea', 'Street',\n",
       "       'Alley', 'LotShape', 'LandContour', 'Utilities', 'LotConfig',\n",
       "       'LandSlope', 'Neighborhood', 'Condition1', 'Condition2', 'BldgType',\n",
       "       'HouseStyle', 'OverallQual', 'OverallCond', 'YearBuilt', 'YearRemodAdd',\n",
       "       'RoofStyle', 'RoofMatl', 'Exterior1st', 'Exterior2nd', 'MasVnrType',\n",
       "       'MasVnrArea', 'ExterQual', 'ExterCond', 'Foundation', 'BsmtQual',\n",
       "       'BsmtCond', 'BsmtExposure', 'BsmtFinType1', 'BsmtFinSF1',\n",
       "       'BsmtFinType2', 'BsmtFinSF2', 'BsmtUnfSF', 'TotalBsmtSF', 'Heating',\n",
       "       'HeatingQC', 'CentralAir', 'Electrical', '1stFlrSF', '2ndFlrSF',\n",
       "       'LowQualFinSF', 'GrLivArea', 'BsmtFullBath', 'BsmtHalfBath', 'FullBath',\n",
       "       'HalfBath', 'BedroomAbvGr', 'KitchenAbvGr', 'KitchenQual',\n",
       "       'TotRmsAbvGrd', 'Functional', 'Fireplaces', 'FireplaceQu', 'GarageType',\n",
       "       'GarageYrBlt', 'GarageFinish', 'GarageCars', 'GarageArea', 'GarageQual',\n",
       "       'GarageCond', 'PavedDrive', 'WoodDeckSF', 'OpenPorchSF',\n",
       "       'EnclosedPorch', '3SsnPorch', 'ScreenPorch', 'PoolArea', 'PoolQC',\n",
       "       'Fence', 'MiscFeature', 'MiscVal', 'MoSold', 'YrSold', 'SaleType',\n",
       "       'SaleCondition', 'SalePrice'],\n",
       "      dtype='object')"
      ]
     },
     "execution_count": 2,
     "metadata": {},
     "output_type": "execute_result"
    }
   ],
   "source": [
    "home_data.columns"
   ]
  },
  {
   "cell_type": "code",
   "execution_count": 3,
   "id": "35e85237",
   "metadata": {
    "execution": {
     "iopub.execute_input": "2024-09-14T08:55:21.365704Z",
     "iopub.status.busy": "2024-09-14T08:55:21.365296Z",
     "iopub.status.idle": "2024-09-14T08:55:21.380386Z",
     "shell.execute_reply": "2024-09-14T08:55:21.379250Z"
    },
    "papermill": {
     "duration": 0.026439,
     "end_time": "2024-09-14T08:55:21.382860",
     "exception": false,
     "start_time": "2024-09-14T08:55:21.356421",
     "status": "completed"
    },
    "tags": []
   },
   "outputs": [
    {
     "data": {
      "application/javascript": [
       "parent.postMessage({\"jupyterEvent\": \"custom.exercise_interaction\", \"data\": {\"outcomeType\": 1, \"valueTowardsCompletion\": 0.25, \"interactionType\": 1, \"questionType\": 2, \"questionId\": \"1_SetTarget\", \"learnToolsVersion\": \"0.3.4\", \"failureMessage\": \"\", \"exceptionClass\": \"\", \"trace\": \"\"}}, \"*\")"
      ],
      "text/plain": [
       "<IPython.core.display.Javascript object>"
      ]
     },
     "metadata": {},
     "output_type": "display_data"
    },
    {
     "data": {
      "text/markdown": [
       "<span style=\"color:#33cc33\">Correct</span>"
      ],
      "text/plain": [
       "Correct"
      ]
     },
     "metadata": {},
     "output_type": "display_data"
    }
   ],
   "source": [
    "y=home_data.SalePrice\n",
    "# Check your answer\n",
    "step_1.check()"
   ]
  },
  {
   "cell_type": "code",
   "execution_count": 4,
   "id": "2781dcad",
   "metadata": {
    "execution": {
     "iopub.execute_input": "2024-09-14T08:55:21.400890Z",
     "iopub.status.busy": "2024-09-14T08:55:21.399864Z",
     "iopub.status.idle": "2024-09-14T08:55:21.404970Z",
     "shell.execute_reply": "2024-09-14T08:55:21.403819Z"
    },
    "papermill": {
     "duration": 0.016644,
     "end_time": "2024-09-14T08:55:21.407396",
     "exception": false,
     "start_time": "2024-09-14T08:55:21.390752",
     "status": "completed"
    },
    "tags": []
   },
   "outputs": [],
   "source": [
    "# The lines below will show you a hint or the solution.\n",
    "# step_1.hint() \n",
    "# step_1.solution()"
   ]
  },
  {
   "cell_type": "markdown",
   "id": "16a3e9e6",
   "metadata": {
    "papermill": {
     "duration": 0.007194,
     "end_time": "2024-09-14T08:55:21.422125",
     "exception": false,
     "start_time": "2024-09-14T08:55:21.414931",
     "status": "completed"
    },
    "tags": []
   },
   "source": [
    "## Step 2: Create X\n",
    "Now you will create a DataFrame called `X` holding the predictive features.\n",
    "\n",
    "Since you want only some columns from the original data, you'll first create a list with the names of the columns you want in `X`.\n",
    "\n",
    "You'll use just the following columns in the list (you can copy and paste the whole list to save some typing, though you'll still need to add quotes):\n",
    "  * LotArea\n",
    "  * YearBuilt\n",
    "  * 1stFlrSF\n",
    "  * 2ndFlrSF\n",
    "  * FullBath\n",
    "  * BedroomAbvGr\n",
    "  * TotRmsAbvGrd\n",
    "\n",
    "After you've created that list of features, use it to create the DataFrame that you'll use to fit the model."
   ]
  },
  {
   "cell_type": "code",
   "execution_count": 5,
   "id": "9a618a98",
   "metadata": {
    "execution": {
     "iopub.execute_input": "2024-09-14T08:55:21.439495Z",
     "iopub.status.busy": "2024-09-14T08:55:21.438603Z",
     "iopub.status.idle": "2024-09-14T08:55:21.453546Z",
     "shell.execute_reply": "2024-09-14T08:55:21.452438Z"
    },
    "papermill": {
     "duration": 0.026443,
     "end_time": "2024-09-14T08:55:21.456110",
     "exception": false,
     "start_time": "2024-09-14T08:55:21.429667",
     "status": "completed"
    },
    "tags": []
   },
   "outputs": [
    {
     "data": {
      "application/javascript": [
       "parent.postMessage({\"jupyterEvent\": \"custom.exercise_interaction\", \"data\": {\"outcomeType\": 1, \"valueTowardsCompletion\": 0.25, \"interactionType\": 1, \"questionType\": 2, \"questionId\": \"2_SelectPredictionData\", \"learnToolsVersion\": \"0.3.4\", \"failureMessage\": \"\", \"exceptionClass\": \"\", \"trace\": \"\"}}, \"*\")"
      ],
      "text/plain": [
       "<IPython.core.display.Javascript object>"
      ]
     },
     "metadata": {},
     "output_type": "display_data"
    },
    {
     "data": {
      "text/markdown": [
       "<span style=\"color:#33cc33\">Correct</span>"
      ],
      "text/plain": [
       "Correct"
      ]
     },
     "metadata": {},
     "output_type": "display_data"
    }
   ],
   "source": [
    "# Create the list of features below\n",
    "feature_names = [\"LotArea\", \"YearBuilt\", \"1stFlrSF\",\"2ndFlrSF\",\"FullBath\",\"BedroomAbvGr\",\"TotRmsAbvGrd\"]\n",
    "\n",
    "# Select data corresponding to features in feature_names\n",
    "X=home_data[feature_names]\n",
    "\n",
    "# Check your answer\n",
    "step_2.check()"
   ]
  },
  {
   "cell_type": "code",
   "execution_count": 6,
   "id": "b466c3ce",
   "metadata": {
    "execution": {
     "iopub.execute_input": "2024-09-14T08:55:21.473985Z",
     "iopub.status.busy": "2024-09-14T08:55:21.473575Z",
     "iopub.status.idle": "2024-09-14T08:55:21.478587Z",
     "shell.execute_reply": "2024-09-14T08:55:21.477363Z"
    },
    "papermill": {
     "duration": 0.01686,
     "end_time": "2024-09-14T08:55:21.481097",
     "exception": false,
     "start_time": "2024-09-14T08:55:21.464237",
     "status": "completed"
    },
    "tags": []
   },
   "outputs": [],
   "source": [
    "# step_2.hint()\n",
    "# step_2.solution()"
   ]
  },
  {
   "cell_type": "markdown",
   "id": "f53e7c2d",
   "metadata": {
    "papermill": {
     "duration": 0.007618,
     "end_time": "2024-09-14T08:55:21.496866",
     "exception": false,
     "start_time": "2024-09-14T08:55:21.489248",
     "status": "completed"
    },
    "tags": []
   },
   "source": [
    "## Review Data\n",
    "Before building a model, take a quick look at **X** to verify it looks sensible"
   ]
  },
  {
   "cell_type": "code",
   "execution_count": 7,
   "id": "3364acc8",
   "metadata": {
    "execution": {
     "iopub.execute_input": "2024-09-14T08:55:21.514694Z",
     "iopub.status.busy": "2024-09-14T08:55:21.514268Z",
     "iopub.status.idle": "2024-09-14T08:55:21.551404Z",
     "shell.execute_reply": "2024-09-14T08:55:21.550148Z"
    },
    "papermill": {
     "duration": 0.049412,
     "end_time": "2024-09-14T08:55:21.554322",
     "exception": false,
     "start_time": "2024-09-14T08:55:21.504910",
     "status": "completed"
    },
    "tags": []
   },
   "outputs": [
    {
     "name": "stdout",
     "output_type": "stream",
     "text": [
      "             LotArea    YearBuilt     1stFlrSF     2ndFlrSF     FullBath  \\\n",
      "count    1460.000000  1460.000000  1460.000000  1460.000000  1460.000000   \n",
      "mean    10516.828082  1971.267808  1162.626712   346.992466     1.565068   \n",
      "std      9981.264932    30.202904   386.587738   436.528436     0.550916   \n",
      "min      1300.000000  1872.000000   334.000000     0.000000     0.000000   \n",
      "25%      7553.500000  1954.000000   882.000000     0.000000     1.000000   \n",
      "50%      9478.500000  1973.000000  1087.000000     0.000000     2.000000   \n",
      "75%     11601.500000  2000.000000  1391.250000   728.000000     2.000000   \n",
      "max    215245.000000  2010.000000  4692.000000  2065.000000     3.000000   \n",
      "\n",
      "       BedroomAbvGr  TotRmsAbvGrd  \n",
      "count   1460.000000   1460.000000  \n",
      "mean       2.866438      6.517808  \n",
      "std        0.815778      1.625393  \n",
      "min        0.000000      2.000000  \n",
      "25%        2.000000      5.000000  \n",
      "50%        3.000000      6.000000  \n",
      "75%        3.000000      7.000000  \n",
      "max        8.000000     14.000000  \n",
      "   LotArea  YearBuilt  1stFlrSF  2ndFlrSF  FullBath  BedroomAbvGr  \\\n",
      "0     8450       2003       856       854         2             3   \n",
      "1     9600       1976      1262         0         2             3   \n",
      "2    11250       2001       920       866         2             3   \n",
      "3     9550       1915       961       756         1             3   \n",
      "4    14260       2000      1145      1053         2             4   \n",
      "\n",
      "   TotRmsAbvGrd  \n",
      "0             8  \n",
      "1             6  \n",
      "2             6  \n",
      "3             7  \n",
      "4             9  \n"
     ]
    }
   ],
   "source": [
    "# Review data\n",
    "# print description or statistics from X\n",
    "#print(_)\n",
    "print(X.describe())\n",
    "# print the top few lines\n",
    "print(X.head())\n",
    "\n",
    "#print(_)"
   ]
  },
  {
   "cell_type": "markdown",
   "id": "be137f67",
   "metadata": {
    "papermill": {
     "duration": 0.00772,
     "end_time": "2024-09-14T08:55:21.570287",
     "exception": false,
     "start_time": "2024-09-14T08:55:21.562567",
     "status": "completed"
    },
    "tags": []
   },
   "source": [
    "## Step 3: Specify and Fit Model\n",
    "Create a `DecisionTreeRegressor` and save it iowa_model. Ensure you've done the relevant import from sklearn to run this command.\n",
    "\n",
    "Then fit the model you just created using the data in `X` and `y` that you saved above."
   ]
  },
  {
   "cell_type": "code",
   "execution_count": 8,
   "id": "303841c7",
   "metadata": {
    "execution": {
     "iopub.execute_input": "2024-09-14T08:55:21.588097Z",
     "iopub.status.busy": "2024-09-14T08:55:21.587660Z",
     "iopub.status.idle": "2024-09-14T08:55:21.608680Z",
     "shell.execute_reply": "2024-09-14T08:55:21.607599Z"
    },
    "papermill": {
     "duration": 0.032736,
     "end_time": "2024-09-14T08:55:21.610988",
     "exception": false,
     "start_time": "2024-09-14T08:55:21.578252",
     "status": "completed"
    },
    "tags": []
   },
   "outputs": [
    {
     "data": {
      "application/javascript": [
       "parent.postMessage({\"jupyterEvent\": \"custom.exercise_interaction\", \"data\": {\"outcomeType\": 1, \"valueTowardsCompletion\": 0.25, \"interactionType\": 1, \"questionType\": 2, \"questionId\": \"3_CreateModel\", \"learnToolsVersion\": \"0.3.4\", \"failureMessage\": \"\", \"exceptionClass\": \"\", \"trace\": \"\"}}, \"*\")"
      ],
      "text/plain": [
       "<IPython.core.display.Javascript object>"
      ]
     },
     "metadata": {},
     "output_type": "display_data"
    },
    {
     "data": {
      "text/markdown": [
       "<span style=\"color:#33cc33\">Correct</span>"
      ],
      "text/plain": [
       "Correct"
      ]
     },
     "metadata": {},
     "output_type": "display_data"
    }
   ],
   "source": [
    "# from _ import _\n",
    "from sklearn.tree import DecisionTreeRegressor\n",
    "#specify the model. \n",
    "#For model reproducibility, set a numeric value for random_state when specifying the model\n",
    "iowa_model=DecisionTreeRegressor(random_state=1)\n",
    "\n",
    "# Fit the model\n",
    "iowa_model.fit(X,y)\n",
    "\n",
    "# Check your answer\n",
    "step_3.check()"
   ]
  },
  {
   "cell_type": "code",
   "execution_count": 9,
   "id": "5b8cfe25",
   "metadata": {
    "execution": {
     "iopub.execute_input": "2024-09-14T08:55:21.630751Z",
     "iopub.status.busy": "2024-09-14T08:55:21.629956Z",
     "iopub.status.idle": "2024-09-14T08:55:21.634947Z",
     "shell.execute_reply": "2024-09-14T08:55:21.633834Z"
    },
    "papermill": {
     "duration": 0.01732,
     "end_time": "2024-09-14T08:55:21.637551",
     "exception": false,
     "start_time": "2024-09-14T08:55:21.620231",
     "status": "completed"
    },
    "tags": []
   },
   "outputs": [],
   "source": [
    "# step_3.hint()\n",
    "# step_3.solution()"
   ]
  },
  {
   "cell_type": "markdown",
   "id": "023a6959",
   "metadata": {
    "papermill": {
     "duration": 0.008191,
     "end_time": "2024-09-14T08:55:21.654241",
     "exception": false,
     "start_time": "2024-09-14T08:55:21.646050",
     "status": "completed"
    },
    "tags": []
   },
   "source": [
    "## Step 4: Make Predictions\n",
    "Make predictions with the model's `predict` command using `X` as the data. Save the results to a variable called `predictions`."
   ]
  },
  {
   "cell_type": "code",
   "execution_count": 10,
   "id": "6a934ecb",
   "metadata": {
    "execution": {
     "iopub.execute_input": "2024-09-14T08:55:21.673156Z",
     "iopub.status.busy": "2024-09-14T08:55:21.672752Z",
     "iopub.status.idle": "2024-09-14T08:55:21.685596Z",
     "shell.execute_reply": "2024-09-14T08:55:21.684481Z"
    },
    "papermill": {
     "duration": 0.025831,
     "end_time": "2024-09-14T08:55:21.688409",
     "exception": false,
     "start_time": "2024-09-14T08:55:21.662578",
     "status": "completed"
    },
    "tags": []
   },
   "outputs": [
    {
     "data": {
      "application/javascript": [
       "parent.postMessage({\"jupyterEvent\": \"custom.exercise_interaction\", \"data\": {\"outcomeType\": 1, \"valueTowardsCompletion\": 0.25, \"interactionType\": 1, \"questionType\": 2, \"questionId\": \"4_MakePredictions\", \"learnToolsVersion\": \"0.3.4\", \"failureMessage\": \"\", \"exceptionClass\": \"\", \"trace\": \"\"}}, \"*\")"
      ],
      "text/plain": [
       "<IPython.core.display.Javascript object>"
      ]
     },
     "metadata": {},
     "output_type": "display_data"
    },
    {
     "data": {
      "text/markdown": [
       "<span style=\"color:#33cc33\">Correct</span>"
      ],
      "text/plain": [
       "Correct"
      ]
     },
     "metadata": {},
     "output_type": "display_data"
    }
   ],
   "source": [
    "predictions=iowa_model.predict(X)\n",
    "# Check your answer\n",
    "\n",
    "step_4.check()"
   ]
  },
  {
   "cell_type": "code",
   "execution_count": 11,
   "id": "accf507b",
   "metadata": {
    "execution": {
     "iopub.execute_input": "2024-09-14T08:55:21.707544Z",
     "iopub.status.busy": "2024-09-14T08:55:21.707074Z",
     "iopub.status.idle": "2024-09-14T08:55:21.711858Z",
     "shell.execute_reply": "2024-09-14T08:55:21.710604Z"
    },
    "papermill": {
     "duration": 0.017463,
     "end_time": "2024-09-14T08:55:21.714650",
     "exception": false,
     "start_time": "2024-09-14T08:55:21.697187",
     "status": "completed"
    },
    "tags": []
   },
   "outputs": [],
   "source": [
    "# step_4.hint()\n",
    "# step_4.solution()"
   ]
  },
  {
   "cell_type": "markdown",
   "id": "8c5219e1",
   "metadata": {
    "papermill": {
     "duration": 0.00848,
     "end_time": "2024-09-14T08:55:21.731975",
     "exception": false,
     "start_time": "2024-09-14T08:55:21.723495",
     "status": "completed"
    },
    "tags": []
   },
   "source": [
    "## Think About Your Results\n",
    "\n",
    "Use the `head` method to compare the top few predictions to the actual home values (in `y`) for those same homes. Anything surprising?\n"
   ]
  },
  {
   "cell_type": "code",
   "execution_count": 12,
   "id": "3144b3b5",
   "metadata": {
    "execution": {
     "iopub.execute_input": "2024-09-14T08:55:21.752219Z",
     "iopub.status.busy": "2024-09-14T08:55:21.751274Z",
     "iopub.status.idle": "2024-09-14T08:55:21.759775Z",
     "shell.execute_reply": "2024-09-14T08:55:21.758598Z"
    },
    "papermill": {
     "duration": 0.021258,
     "end_time": "2024-09-14T08:55:21.762191",
     "exception": false,
     "start_time": "2024-09-14T08:55:21.740933",
     "status": "completed"
    },
    "tags": []
   },
   "outputs": [
    {
     "name": "stdout",
     "output_type": "stream",
     "text": [
      "[208500. 181500. 223500. 140000. 250000.]\n"
     ]
    }
   ],
   "source": [
    "# You can write code in this cell\n",
    "print(iowa_model.predict(X.head()))\n"
   ]
  },
  {
   "cell_type": "markdown",
   "id": "90a192e9",
   "metadata": {
    "papermill": {
     "duration": 0.008562,
     "end_time": "2024-09-14T08:55:21.779825",
     "exception": false,
     "start_time": "2024-09-14T08:55:21.771263",
     "status": "completed"
    },
    "tags": []
   },
   "source": [
    "It's natural to ask how accurate the model's predictions will be and how you can improve that. That will be you're next step.\n",
    "\n",
    "# Keep Going\n",
    "\n",
    "You are ready for **[Model Validation](https://www.kaggle.com/dansbecker/model-validation).**\n"
   ]
  },
  {
   "cell_type": "markdown",
   "id": "9f695049",
   "metadata": {
    "papermill": {
     "duration": 0.008608,
     "end_time": "2024-09-14T08:55:21.797224",
     "exception": false,
     "start_time": "2024-09-14T08:55:21.788616",
     "status": "completed"
    },
    "tags": []
   },
   "source": [
    "---\n",
    "\n",
    "\n",
    "\n",
    "\n",
    "*Have questions or comments? Visit the [course discussion forum](https://www.kaggle.com/learn/intro-to-machine-learning/discussion) to chat with other learners.*"
   ]
  }
 ],
 "metadata": {
  "kaggle": {
   "accelerator": "none",
   "dataSources": [
    {
     "databundleVersionId": 111096,
     "sourceId": 10211,
     "sourceType": "competition"
    },
    {
     "datasetId": 11167,
     "sourceId": 15520,
     "sourceType": "datasetVersion"
    },
    {
     "datasetId": 2709,
     "sourceId": 38454,
     "sourceType": "datasetVersion"
    }
   ],
   "isGpuEnabled": false,
   "isInternetEnabled": false,
   "language": "python",
   "sourceType": "notebook"
  },
  "kernelspec": {
   "display_name": "Python 3",
   "language": "python",
   "name": "python3"
  },
  "language_info": {
   "codemirror_mode": {
    "name": "ipython",
    "version": 3
   },
   "file_extension": ".py",
   "mimetype": "text/x-python",
   "name": "python",
   "nbconvert_exporter": "python",
   "pygments_lexer": "ipython3",
   "version": "3.10.14"
  },
  "papermill": {
   "default_parameters": {},
   "duration": 6.284812,
   "end_time": "2024-09-14T08:55:22.427653",
   "environment_variables": {},
   "exception": null,
   "input_path": "__notebook__.ipynb",
   "output_path": "__notebook__.ipynb",
   "parameters": {},
   "start_time": "2024-09-14T08:55:16.142841",
   "version": "2.6.0"
  }
 },
 "nbformat": 4,
 "nbformat_minor": 5
}
